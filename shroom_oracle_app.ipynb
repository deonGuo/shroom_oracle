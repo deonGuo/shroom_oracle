{
  "cells": [
    {
      "cell_type": "markdown",
      "metadata": {
        "colab_type": "text",
        "id": "view-in-github"
      },
      "source": [
        "<a href=\"https://colab.research.google.com/github/deonGuo/shroom_oracle/blob/main/shroom_oracle_app.ipynb\" target=\"_parent\"><img src=\"https://colab.research.google.com/assets/colab-badge.svg\" alt=\"Open In Colab\"/></a>"
      ]
    },
    {
      "cell_type": "code",
      "execution_count": null,
      "metadata": {
        "id": "fOysWBc1YJgg"
      },
      "outputs": [],
      "source": [
        "from fastai.vision.all import *\n",
        "from ipywidgets import widgets, VBox, Label, Output\n",
        "from IPython.display import display\n",
        "\n",
        "# Load model\n",
        "learn = load_learner('oracle.pkl', cpu=True)\n",
        "\n",
        "# Widgets\n",
        "btn_upload = widgets.FileUpload()\n",
        "btn_run = widgets.Button(description='Pray to Shroom Oracle')\n",
        "out_pl = Output()\n",
        "lbl_prediction = Label()\n",
        "debug_output = Output()\n",
        "\n",
        "# Event handler\n",
        "def on_click_classify(change):\n",
        "    with debug_output:\n",
        "        debug_output.clear_output()\n",
        "        print(\"Button clicked\")\n",
        "\n",
        "        if not btn_upload.value:\n",
        "            print(\"No image uploaded\")\n",
        "            lbl_prediction.value = \"Please upload an image.\"\n",
        "            return\n",
        "\n",
        "        try:\n",
        "            # Read uploaded file\n",
        "            upload_val = btn_upload.value\n",
        "            uploaded_file = upload_val[0]\n",
        "            content = uploaded_file['content']\n",
        "            print(\"Uploaded file object:\")\n",
        "            print(uploaded_file)\n",
        "\n",
        "\n",
        "            # Convert to image\n",
        "            img = PILImage.create(content)\n",
        "            print(\"Image loaded\")\n",
        "\n",
        "            # Run prediction\n",
        "            pred, pred_idx, probs = learn.predict(img)\n",
        "            print(f\"Prediction: {pred}, Probability: {probs[pred_idx]:.4f}\")\n",
        "\n",
        "            # Display\n",
        "            out_pl.clear_output()\n",
        "            with out_pl:\n",
        "                display(img.to_thumb(128, 128))\n",
        "            lbl_prediction.value = f\"Prediction: {pred}; Probability: {probs[pred_idx]:.04f}\"\n",
        "\n",
        "        except Exception as e:\n",
        "            print(\"Error:\", e)\n",
        "            lbl_prediction.value = f\"Error: {e}\"\n",
        "\n",
        "# Bind event\n",
        "btn_run.on_click(on_click_classify)\n",
        "\n",
        "# Layout\n",
        "ui = VBox([\n",
        "    Label(\"🍄 Behold, O The Great Shroom Oracle\"),\n",
        "    btn_upload,\n",
        "    btn_run,\n",
        "    out_pl,\n",
        "    lbl_prediction,\n",
        "    Label(\"🔧 Debug Console\"),\n",
        "    debug_output\n",
        "])\n",
        "display(ui)\n"
      ]
    }
  ],
  "metadata": {
    "colab": {
      "authorship_tag": "ABX9TyOks/XORD77HN3Ssl1N/jx9",
      "include_colab_link": true,
      "provenance": []
    },
    "kernelspec": {
      "display_name": "Python 3",
      "name": "python3"
    },
    "language_info": {
      "name": "python"
    }
  },
  "nbformat": 4,
  "nbformat_minor": 0
}
