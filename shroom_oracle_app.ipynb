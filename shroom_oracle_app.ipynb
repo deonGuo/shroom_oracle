{
  "cells": [
    {
      "cell_type": "markdown",
      "metadata": {
        "colab_type": "text",
        "id": "view-in-github"
      },
      "source": [
        "<a href=\"https://colab.research.google.com/github/deonGuo/shroom_oracle/blob/main/shroom_oracle_app.ipynb\" target=\"_parent\"><img src=\"https://colab.research.google.com/assets/colab-badge.svg\" alt=\"Open In Colab\"/></a>"
      ]
    },
    {
      "cell_type": "code",
      "execution_count": null,
      "metadata": {
        "id": "fOysWBc1YJgg"
      },
      "outputs": [],
      "source": [
        "from fastai.vision.all import *\n",
        "from ipywidgets import widgets, VBox, Label, Output\n",
        "from IPython.display import display\n",
        "\n",
        "# Load model\n",
        "learn = load_learner('oracle.pkl', cpu=True)\n",
        "\n",
        "# Widgets\n",
        "btn_upload = widgets.FileUpload()\n",
        "btn_run = widgets.Button(description='Pray to Shroom Oracle')\n",
        "out_pl = Output()\n",
        "lbl_prediction = Label()\n",
        "debug_output = Output()\n",
        "\n",
        "# Event handler\n",
        "def on_click_classify(change):\n",
        "    with debug_output:\n",
        "        debug_output.clear_output()\n",
        "        print(\"Button clicked\")\n",
        "\n",
        "        try:\n",
        "            upload_val = btn_upload.value\n",
        "            if isinstance(upload_val, dict):\n",
        "                uploaded_file = list(upload_val.values())[0]\n",
        "            elif isinstance(upload_val, tuple):\n",
        "                uploaded_file = upload_val[0]\n",
        "            else:\n",
        "                raise Exception(\"Unsupported upload type\")\n",
        "\n",
        "            content = uploaded_file['content']\n",
        "            print(\"Uploaded file keys:\", uploaded_file.keys())\n",
        "            print(f\"Received file: {uploaded_file['name']}, size: {len(content)} bytes\")\n",
        "\n",
        "            # Convert memoryview to bytes\n",
        "            img = PILImage.create(bytes(content))\n",
        "            print(\"Image loaded\")\n",
        "\n",
        "            pred, pred_idx, probs = learn.predict(img)\n",
        "            print(f\"Prediction: {pred}, Probability: {probs[pred_idx]:.4f}\")\n",
        "\n",
        "            out_pl.clear_output()\n",
        "            with out_pl:\n",
        "                display(img.to_thumb(128, 128))\n",
        "            lbl_prediction.value = f\"Prediction: {pred}; Probability: {probs[pred_idx]:.04f}\"\n",
        "\n",
        "        except Exception as e:\n",
        "            print(\"Error:\", e)\n",
        "            lbl_prediction.value = f\"Error: {e}\"\n",
        "\n",
        "# Bind event\n",
        "btn_run.on_click(on_click_classify)\n",
        "\n",
        "# Layout\n",
        "ui = VBox([\n",
        "    Label(\"🍄 Behold, O The Great Shroom Oracle\"),\n",
        "    btn_upload,\n",
        "    btn_run,\n",
        "    out_pl,\n",
        "    lbl_prediction,\n",
        "    Label(\"🔧 Debug Console\"),\n",
        "    debug_output\n",
        "])\n",
        "display(ui)\n"
      ]
    }
  ],
  "metadata": {
    "colab": {
      "authorship_tag": "ABX9TyOks/XORD77HN3Ssl1N/jx9",
      "include_colab_link": true,
      "provenance": []
    },
    "kernelspec": {
      "display_name": "Python 3",
      "name": "python3"
    },
    "language_info": {
      "name": "python"
    }
  },
  "nbformat": 4,
  "nbformat_minor": 0
}
