{
  "cells": [
    {
      "cell_type": "markdown",
      "metadata": {
        "colab_type": "text",
        "id": "view-in-github"
      },
      "source": [
        "<a href=\"https://colab.research.google.com/github/deonGuo/shroom_oracle/blob/main/shroom_oracle_app.ipynb\" target=\"_parent\"><img src=\"https://colab.research.google.com/assets/colab-badge.svg\" alt=\"Open In Colab\"/></a>"
      ]
    },
    {
      "cell_type": "code",
      "execution_count": null,
      "metadata": {
        "id": "fOysWBc1YJgg"
      },
      "outputs": [],
      "source": [
        "from fastai.vision.all import *\n",
        "from fastai.vision.widgets import *\n",
        "\n",
        "# Use model\n",
        "path = Path()\n",
        "shroom_oracle = load_learner(path/'oracle.pkl', cpu=True)\n",
        "shroom_oracle.dls.vocab\n",
        "\n",
        "# UI\n",
        "btn_upload = widgets.FileUpload()\n",
        "btn_run = widgets.Button(description='Pray to Shroom Oracle')\n",
        "out_pl = widgets.Output()\n",
        "\n",
        "def on_click_classify(change):\n",
        "  img = PILImage.create(btn_upload.data[-1])\n",
        "  out_pl.clear_output()\n",
        "  with out_pl: display(img.to_thumb(128,128))\n",
        "  prediction,prediction_idx,probs = shroom_oracle.predict(img)\n",
        "  lbl_prediction.value = f'Predictin: {prediction}; Probability: {probs[prediction_idx]}'\n",
        "\n",
        "btn_run.on_click(on_click_classify)\n",
        "lbl_prediction = widgets.Label()\n",
        "\n",
        "VBox([widgets.Label('Behold, O The Great Shroom Oracle'), btn_upload, btn_run, out_pl, lbl_prediction])"
      ]
    }
  ],
  "metadata": {
    "colab": {
      "authorship_tag": "ABX9TyOks/XORD77HN3Ssl1N/jx9",
      "include_colab_link": true,
      "provenance": []
    },
    "kernelspec": {
      "display_name": "Python 3",
      "name": "python3"
    },
    "language_info": {
      "name": "python"
    }
  },
  "nbformat": 4,
  "nbformat_minor": 0
}
